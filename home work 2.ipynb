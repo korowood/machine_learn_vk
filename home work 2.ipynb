{
 "cells": [
  {
   "cell_type": "markdown",
   "metadata": {
    "colab_type": "text",
    "id": "m2Rz-BeQHdc6",
    "nteract": {
     "transient": {
      "deleting": false
     }
    }
   },
   "source": [
    "# Важно!\n",
    "\n",
    "Придерживайтесь эталонного вывода в коде каждого задания, чтобы избежать расхождений в трактовках условий задания."
   ]
  },
  {
   "cell_type": "code",
   "execution_count": 1,
   "metadata": {
    "colab": {},
    "colab_type": "code",
    "execution": {
     "iopub.execute_input": "2020-06-02T07:55:50.262Z",
     "iopub.status.busy": "2020-06-02T07:55:50.257Z",
     "iopub.status.idle": "2020-06-02T07:55:51.173Z",
     "shell.execute_reply": "2020-06-02T07:55:51.180Z"
    },
    "id": "mO0X92xdt8AI"
   },
   "outputs": [],
   "source": [
    "# загрузим библиотеки\n",
    "import numpy as np\n",
    "import pandas as pd"
   ]
  },
  {
   "cell_type": "markdown",
   "metadata": {
    "colab_type": "text",
    "id": "RvAr660Dtkzm"
   },
   "source": [
    "## Задание 1\n",
    "\n",
    "Создайте массив массив из 100 элементов (от 1 до 100), переформатируйте в формат (10 * 10), сделайте слайсинг с шагом 2 по каждой оси."
   ]
  },
  {
   "cell_type": "code",
   "execution_count": 16,
   "metadata": {
    "colab": {},
    "colab_type": "code",
    "execution": {
     "iopub.execute_input": "2020-06-02T07:57:43.742Z",
     "iopub.status.busy": "2020-06-02T07:57:43.739Z",
     "iopub.status.idle": "2020-06-02T07:57:43.750Z",
     "shell.execute_reply": "2020-06-02T07:57:43.753Z"
    },
    "id": "E68PUYqAs747",
    "outputId": "2190364d-dd47-49e2-ca66-55ba148a2ea1"
   },
   "outputs": [
    {
     "data": {
      "text/plain": [
       "array([[ 1,  3,  5,  7,  9],\n",
       "       [21, 23, 25, 27, 29],\n",
       "       [41, 43, 45, 47, 49],\n",
       "       [61, 63, 65, 67, 69],\n",
       "       [81, 83, 85, 87, 89]])"
      ]
     },
     "execution_count": 16,
     "metadata": {},
     "output_type": "execute_result"
    }
   ],
   "source": [
    "arr = np.array(range(1, 101)) # массив от 1 до 100\n",
    "arr = arr.reshape((10, 10)) # форматирование в 10*10\n",
    "arr[::2, ::2] # слайсин с шагом 2 по каждой оси"
   ]
  },
  {
   "cell_type": "markdown",
   "metadata": {
    "colab_type": "text",
    "id": "CsoFLFbutmQE"
   },
   "source": [
    "## Задание 2\n",
    "\n",
    "Написать функцию, которая по заданной длине последовательности находит среднее арифметическое ее членов. (Для соответсвия примеру вывода используйте длину length = 100_000_000)\n",
    "\n",
    "Реализуйте задачу с и без помощи numpy, сравните время выполнения\n",
    "\n",
    "Используйте выражение \n",
    "\n",
    "\n",
    "`%%time` \n",
    "\n",
    "в первой строчке ячейки кода для отображения времени выполнения ячейки\n",
    "\n",
    "Если возникамют ошибки с %%time - используйте код\n",
    "\n",
    "`\n",
    "from datetime import datetime\n",
    "start_time = datetime.now()\n",
    "---ваш код---\n",
    "print(datetime.now() - start_time)\n",
    "`"
   ]
  },
  {
   "cell_type": "code",
   "execution_count": 19,
   "metadata": {
    "colab": {},
    "colab_type": "code",
    "execution": {
     "iopub.execute_input": "2020-06-02T07:59:58.667Z",
     "iopub.status.busy": "2020-06-02T07:59:58.665Z",
     "iopub.status.idle": "2020-06-02T07:59:58.673Z",
     "shell.execute_reply": "2020-06-02T07:59:58.675Z"
    },
    "id": "ykruF0HWtmW3",
    "outputId": "d86fccbf-d595-4b29-c22d-110d03445818"
   },
   "outputs": [
    {
     "name": "stdout",
     "output_type": "stream",
     "text": [
      "100000000\n",
      "49999999.5\n",
      "0:00:04.283970\n"
     ]
    }
   ],
   "source": [
    "# решение с использованием numpy\n",
    "from datetime import datetime\n",
    "\n",
    "start_time = datetime.now()\n",
    "# зададим длину нашей последовательности\n",
    "\n",
    "length = int(input())\n",
    "arr = np.arange(0, length)\n",
    "summa = np.mean(arr)\n",
    "print(summa)\n",
    "print(datetime.now() - start_time)"
   ]
  },
  {
   "cell_type": "code",
   "execution_count": 27,
   "metadata": {
    "colab": {},
    "colab_type": "code",
    "execution": {
     "iopub.execute_input": "2020-06-02T08:02:34.017Z",
     "iopub.status.busy": "2020-06-02T08:02:34.015Z",
     "iopub.status.idle": "2020-06-02T08:02:34.022Z",
     "shell.execute_reply": "2020-06-02T08:02:34.025Z"
    },
    "id": "LKGnz5iVuA7V",
    "outputId": "0ef655de-fac9-4920-e7a6-fe058720d9a1"
   },
   "outputs": [
    {
     "name": "stdout",
     "output_type": "stream",
     "text": [
      "100000000\n",
      "49999999.5\n",
      "0:00:22.512025\n",
      "49999999.5\n",
      "0:00:00\n"
     ]
    }
   ],
   "source": [
    "from datetime import datetime\n",
    "\n",
    "start_time = datetime.now()\n",
    "# решение без использования numpy\n",
    "\n",
    "x = int(input()) # длина последовательности\n",
    "\n",
    "# чесное решение\n",
    "summa = 0\n",
    "for i in range(x):\n",
    "    summa += i\n",
    "print(summa / x)\n",
    "print(datetime.now() - start_time)\n",
    "\n",
    "# нечесное решение\n",
    "start_time = datetime.now()\n",
    "Sn = x*(x-1)/2 # сумма арифм. прогрессии\n",
    "print(Sn / x)\n",
    "print(datetime.now() - start_time)\n",
    "\n",
    "\n",
    "\n"
   ]
  },
  {
   "cell_type": "markdown",
   "metadata": {
    "colab_type": "text",
    "id": "KBSohg6XHddU",
    "nteract": {
     "transient": {
      "deleting": false
     }
    }
   },
   "source": [
    "Если все сделано верно, то можно заметить, что у нампай скорость выполнения (total: 546 ms) заметно выше питона (total: 16.2 s)"
   ]
  },
  {
   "cell_type": "markdown",
   "metadata": {
    "colab_type": "text",
    "id": "yBYPAaYJtmdW"
   },
   "source": [
    "## Задание 3\n",
    "\n",
    "Задан Series объект s, найти индекс первого элемента отсортированного s, где значения больше 5\n",
    "\n",
    "Изначальный код:\n",
    "\n",
    "`\n",
    "r = np.random.RandomState(1)\n",
    "s=pd.Series(r.uniform(0, 10, 100))\n",
    "`"
   ]
  },
  {
   "cell_type": "code",
   "execution_count": 32,
   "metadata": {
    "colab": {},
    "colab_type": "code",
    "execution": {
     "iopub.execute_input": "2020-06-02T08:04:21.808Z",
     "iopub.status.busy": "2020-06-02T08:04:21.806Z",
     "iopub.status.idle": "2020-06-02T08:04:21.813Z",
     "shell.execute_reply": "2020-06-02T08:04:21.816Z"
    },
    "id": "gqiIWcIctmja",
    "outputId": "aef7e3c8-91ca-49a0-da64-f236e57438b8"
   },
   "outputs": [
    {
     "name": "stdout",
     "output_type": "stream",
     "text": [
      "67\n"
     ]
    }
   ],
   "source": [
    "\n",
    "\n",
    "r = np.random.RandomState(1) # задано изначально\n",
    "s=pd.Series(r.uniform(0, 10, 100)) # генерируем один и тот же список\n",
    "s = s.sort_values() # сортируем\n",
    "print(s[s>5].index[0]) # берем 0 индекс в s, где s>5\n"
   ]
  },
  {
   "cell_type": "markdown",
   "metadata": {
    "colab_type": "text",
    "id": "ymT-Z-djtmpO"
   },
   "source": [
    "## Задание 4\n",
    "\n",
    "Предположим, что мы наблюдаем за некоторым признаком нашего датасета, но в данных есть пропуски. Ваша задача: реализовать алгоритм заполнения пропущенных значений последним известным с помощью средств python и pandas. (подсказка: вам может помочь функция np.isnan(), которая возвращает True, если число - nan. Для реализации с пандас стоит посмотреть на метод .fillna).\n",
    "\n",
    "Изначальный код с инициализацией такого датасета предоставлен. Важно! Графики решений других слушателей могут незначительно отличаться из-за генерации случайных пропусков.\n",
    "\n",
    "\n",
    "```\n",
    "\n",
    "# импортируем библиотеку для создания шума\n",
    "import random\n",
    "# библиотека для визуализации\n",
    "import matplotlib.pyplot as plt\n",
    "\n",
    "# создадим наши данные и добавим к каждой точке синусоиды случайный шум\n",
    "a = np.linspace(0, 25, 100)\n",
    "a = np.sin(a) + [random.gauss(0, 0.2) for i in range(len(a))]\n",
    "\n",
    "# создадим 10 случайных пропусков\n",
    "for i in range(10):\n",
    "    a[random.randint(0, len(a) - 1)] = None\n",
    "\n",
    "# ваш код тут\n",
    "# список а содержит пропуски, его надо восстановить\n",
    "\n",
    "# ВАШ КОД ТУТ\n",
    "\n",
    "# отобразим\n",
    "plt.plot(a)\n",
    "\n",
    "```"
   ]
  },
  {
   "cell_type": "markdown",
   "metadata": {
    "colab_type": "text",
    "id": "_xXEYRF5Hddd",
    "nteract": {
     "transient": {
      "deleting": false
     }
    }
   },
   "source": [
    "Реализация используя python"
   ]
  },
  {
   "cell_type": "code",
   "execution_count": 6,
   "metadata": {
    "colab": {},
    "colab_type": "code",
    "execution": {
     "iopub.execute_input": "2020-06-02T08:09:17.139Z",
     "iopub.status.busy": "2020-06-02T08:09:17.136Z",
     "iopub.status.idle": "2020-06-02T08:09:17.204Z",
     "shell.execute_reply": "2020-06-02T08:09:17.208Z"
    },
    "id": "HUR8BE7Etmuj",
    "outputId": "50dcc0d0-ec2e-4ca8-f9ef-c66fe8b202b0"
   },
   "outputs": [
    {
     "data": {
      "text/plain": [
       "[<matplotlib.lines.Line2D at 0x10633f0>]"
      ]
     },
     "execution_count": 6,
     "metadata": {},
     "output_type": "execute_result"
    },
    {
     "data": {
      "image/png": "[encoded data removed]",
      "text/plain": [
       "<Figure size 432x288 with 1 Axes>"
      ]
     },
     "metadata": {
      "needs_background": "light"
     },
     "output_type": "display_data"
    }
   ],
   "source": [
    "# импортируем библиотеку для создания шума\n",
    "import random\n",
    "# библиотека для визуализации\n",
    "import matplotlib.pyplot as plt\n",
    "\n",
    "# создадим наши данные и добавим к каждой точке синусоиды случайный шум\n",
    "a = np.linspace(0, 25, 100)\n",
    "a = np.sin(a) + [random.gauss(0, 0.2) for i in range(len(a))]\n",
    "\n",
    "# создадим 10 случайных пропусков\n",
    "for i in range(10):\n",
    "    a[random.randint(0, len(a) - 1)] = None\n",
    "\n",
    "for j in range(len(a)): #пробегаем по массиву\n",
    "    try:\n",
    "        if np.isnan(a[j]): #если элемент а[j] возвращает тру, то меняем на предидущий\n",
    "            a[j] = a[j-1]\n",
    "    except Exception as e:\n",
    "        print('Возникла ошибка', e)\n",
    "\n",
    "\n",
    "# отобразим\n",
    "plt.plot(a)"
   ]
  },
  {
   "cell_type": "markdown",
   "metadata": {
    "colab_type": "text",
    "id": "ISlMwxNYHddj",
    "nteract": {
     "transient": {
      "deleting": false
     }
    }
   },
   "source": [
    "Реализация через matplotlib"
   ]
  },
  {
   "cell_type": "code",
   "execution_count": 5,
   "metadata": {
    "colab": {},
    "colab_type": "code",
    "execution": {
     "iopub.execute_input": "2020-06-02T08:10:04.814Z",
     "iopub.status.busy": "2020-06-02T08:10:04.810Z",
     "iopub.status.idle": "2020-06-02T08:10:04.865Z",
     "shell.execute_reply": "2020-06-02T08:10:04.874Z"
    },
    "id": "HXzNGQOBHddj",
    "jupyter": {
     "outputs_hidden": false,
     "source_hidden": false
    },
    "nteract": {
     "transient": {
      "deleting": false
     }
    },
    "outputId": "70893c3e-ed59-4acf-90fa-89dc8610dc41"
   },
   "outputs": [
    {
     "data": {
      "text/plain": [
       "[<matplotlib.lines.Line2D at 0x1024b30>]"
      ]
     },
     "execution_count": 5,
     "metadata": {},
     "output_type": "execute_result"
    },
    {
     "data": {
      "image/png": "[encoded data removed]",
      "text/plain": [
       "<Figure size 432x288 with 1 Axes>"
      ]
     },
     "metadata": {
      "needs_background": "light"
     },
     "output_type": "display_data"
    }
   ],
   "source": [
    "# импортируем библиотеку для создания шума\n",
    "import random\n",
    "# библиотека для визуализации\n",
    "import matplotlib.pyplot as plt\n",
    "\n",
    "# создадим наши данные и добавим к каждой точке синусоиды случайный шум\n",
    "a = np.linspace(0, 25, 100)\n",
    "a = np.sin(a) + [random.gauss(0, 0.2) for i in range(len(a))]\n",
    "\n",
    "# создадим 10 случайных пропусков\n",
    "for i in range(10):\n",
    "    a[random.randint(0, len(a) - 1)] = None\n",
    "\n",
    "# создадим датафрейм из списка а, он содержит пропуски\n",
    "df = pd.DataFrame({'target':a})\n",
    "\n",
    "df = df.fillna(method='ffill') # метод заполнения назад\n",
    "\n",
    "# отобразим\n",
    "plt.plot(df.target.values)"
   ]
  },
  {
   "cell_type": "code",
   "execution_count": 40,
   "metadata": {
    "colab": {},
    "colab_type": "code",
    "execution": {
     "iopub.execute_input": "2020-06-02T08:06:04.223Z",
     "iopub.status.busy": "2020-06-02T08:06:04.220Z",
     "iopub.status.idle": "2020-06-02T08:06:04.286Z",
     "shell.execute_reply": "2020-06-02T08:06:04.295Z"
    },
    "id": "XvT4PKEeHddz",
    "jupyter": {
     "outputs_hidden": false,
     "source_hidden": false
    },
    "nteract": {
     "transient": {
      "deleting": false
     }
    },
    "outputId": "e08c7f95-1283-484e-81c6-a29120c9c4bf"
   },
   "outputs": [],
   "source": [
    "# то, что будет до (графики могут незначительно отличаться)"
   ]
  },
  {
   "cell_type": "code",
   "execution_count": 0,
   "metadata": {
    "colab": {},
    "colab_type": "code",
    "execution": {
     "iopub.execute_input": "2020-06-02T08:06:39.372Z",
     "iopub.status.busy": "2020-06-02T08:06:39.369Z",
     "iopub.status.idle": "2020-06-02T08:06:39.430Z",
     "shell.execute_reply": "2020-06-02T08:06:39.435Z"
    },
    "id": "P3KRhcXFHdd7",
    "jupyter": {
     "outputs_hidden": false,
     "source_hidden": false
    },
    "nteract": {
     "transient": {
      "deleting": false
     }
    },
    "outputId": "2c687af0-3b3b-4e09-f317-5db1715394cc"
   },
   "outputs": [
    {
     "data": {
      "text/plain": [
       "[<matplotlib.lines.Line2D at 0x1b2113a1188>]"
      ]
     },
     "execution_count": 18,
     "metadata": {
      "tags": []
     },
     "output_type": "execute_result"
    },
    {
     "data": {
      "image/png": "[encoded data removed]",
      "text/plain": [
       "<Figure size 432x288 with 1 Axes>"
      ]
     },
     "metadata": {
      "needs_background": "light",
      "tags": []
     },
     "output_type": "display_data"
    }
   ],
   "source": [
    "# после (графики могут незначительно отличаться)"
   ]
  },
  {
   "cell_type": "markdown",
   "metadata": {
    "colab_type": "text",
    "id": "lkk7fksLtm0p"
   },
   "source": [
    "## Задание 5\n",
    "\n",
    "Имеется небольшой игрушечный датафрейм, в котором необходимо провести несколько типов фильтраций (ответы ищите в решениях) и отобразить результат:\n",
    "\n",
    "* всех, кто старше 40\n",
    "* всех, кто имеет доход выше среднего по датасету\n",
    "* всех, кто имеет доход выше среднего по датасету, но надежность ниже среднего по датасету\n",
    "\n",
    "создать новые столбцы:\n",
    "\n",
    "* важность клиента = доход * надежность\n",
    "* возможная долгосрочность клиента = важность клиента * (средний возраст по датасету - возраст клиента)\n",
    "\n",
    "`подсказка: двойные условия записываются так: (условие 1) & (условие 2)`\n",
    "\n",
    "\n",
    "** примечание: столбцы не имеют отношения к реальным формулам или моделям, они необходимы только для наглядности"
   ]
  },
  {
   "cell_type": "code",
   "execution_count": 4,
   "metadata": {
    "colab": {},
    "colab_type": "code",
    "execution": {
     "iopub.execute_input": "2020-06-02T08:11:06.827Z",
     "iopub.status.busy": "2020-06-02T08:11:06.824Z",
     "iopub.status.idle": "2020-06-02T08:11:06.837Z",
     "shell.execute_reply": "2020-06-02T08:11:06.848Z"
    },
    "id": "E3PkAP5atm7L",
    "outputId": "21d62b92-90a2-4e9d-ac2e-581de3d3498c"
   },
   "outputs": [
    {
     "name": "stdout",
     "output_type": "stream",
     "text": [
      "    имя  возраст   доход  надежность клиента (0..1)  пол\n",
      "0  Петя       45  100000                       0.65  муж\n",
      "2   Аня       41  150000                       0.87  жен\n",
      "\n",
      "    имя  возраст   доход  надежность клиента (0..1)  пол\n",
      "0  Петя       45  100000                       0.65  муж\n",
      "2   Аня       41  150000                       0.87  жен\n",
      "\n",
      "    имя  возраст   доход  надежность клиента (0..1)  пол\n",
      "0  Петя       45  100000                       0.65  муж\n",
      "\n",
      "     имя  возраст   доход  надежность клиента (0..1)  пол  важность клиента  \\\n",
      "0   Петя       45  100000                       0.65  муж           65000.0   \n",
      "1   Вася       26   80000                       0.74  муж           59200.0   \n",
      "2    Аня       41  150000                       0.87  жен          130500.0   \n",
      "3  Света       21   60000                       0.68  жен           40800.0   \n",
      "\n",
      "   возможная долгосрочность клиента  \n",
      "0                         -763750.0  \n",
      "1                          429200.0  \n",
      "2                        -1011375.0  \n",
      "3                          499800.0  \n",
      "\n",
      "     имя  возраст   доход  надежность  пол  важность  долгосрочность\n",
      "0   Петя       45  100000        0.65  муж   65000.0       -763750.0\n",
      "1   Вася       26   80000        0.74  муж   59200.0        429200.0\n",
      "2    Аня       41  150000        0.87  жен  130500.0      -1011375.0\n",
      "3  Света       21   60000        0.68  жен   40800.0        499800.0\n"
     ]
    },
    {
     "name": "stderr",
     "output_type": "stream",
     "text": [
      "c:\\users\\korowood\\appdata\\local\\programs\\python\\python37-32\\lib\\site-packages\\ipykernel_launcher.py:16: UserWarning: Boolean Series key will be reindexed to match DataFrame index.\n",
      "  app.launch_new_instance()\n"
     ]
    }
   ],
   "source": [
    "# создадим тестовый датасет\n",
    "\n",
    "df = pd.DataFrame({\n",
    "    'имя': ['Петя', 'Вася', 'Аня', 'Света'],\n",
    "    'возраст': [45, 26, 41 , 21],\n",
    "    'доход': [100000, 80000, 150000, 60000],\n",
    "    'надежность клиента (0..1)': [0.65, 0.74, 0.87, 0.68],\n",
    "    'пол': ['муж', 'муж', 'жен', 'жен']},\n",
    "    index=[0, 1, 2, 3])\n",
    "\n",
    "\n",
    "print(df[df[df.columns[1]] > 40]) # старше 40\n",
    "print()\n",
    "print(df[df[df.columns[2]] > df[df.columns[2]].mean()]) # средний доход=97500.0\n",
    "print()\n",
    "print(df[df[df.columns[2]] > df[df.columns[2]].mean()][df[df.columns[3]] < df[df.columns[3]].mean()]) # доход выше среднего, надежнсоть меньше\n",
    "print()\n",
    "df['важность клиента']=df[df.columns[2]] * df[df.columns[3]]\n",
    "df['возможная долгосрочность клиента']=df[df.columns[5]]*(df[df.columns[1]].mean() - df[df.columns[1]])\n",
    "print(df)\n",
    "print()\n",
    "df.rename(columns={'важность клиента': 'важность', 'возможная долгосрочность клиента': 'долгосрочность', 'надежность клиента (0..1)': 'надежность'}, inplace=True)\n",
    "print(df) # просто"
   ]
  },
  {
   "cell_type": "markdown",
   "metadata": {
    "colab_type": "text",
    "id": "SxYDVNpYtnAp"
   },
   "source": [
    "## Задание 6\n",
    "\n",
    "Используя материалы блока Exploratory data analysis материалов 2го модуля вывести имена всех выживших детей (до 18 лет) и их количество\n",
    "\n",
    "Изначальный код:\n",
    "\n",
    "data = pd.read_csv('https://web.stanford.edu/class/archive/cs/cs109/cs109.1166/stuff/titanic.csv')\n",
    "\n",
    "data.head()"
   ]
  },
  {
   "cell_type": "code",
   "execution_count": 5,
   "metadata": {
    "colab": {
     "base_uri": "https://localhost:8080/",
     "height": 202
    },
    "colab_type": "code",
    "execution": {
     "iopub.execute_input": "2020-06-02T08:12:49.627Z",
     "iopub.status.busy": "2020-06-02T08:12:49.624Z",
     "iopub.status.idle": "2020-06-02T08:12:50.666Z",
     "shell.execute_reply": "2020-06-02T08:12:50.670Z"
    },
    "id": "LAwKsFvYtnFR",
    "outputId": "250563b0-0ea0-43c4-ee19-c7f15c518fb0"
   },
   "outputs": [
    {
     "data": {
      "text/html": [
       "<div>\n",
       "<style scoped>\n",
       "    .dataframe tbody tr th:only-of-type {\n",
       "        vertical-align: middle;\n",
       "    }\n",
       "\n",
       "    .dataframe tbody tr th {\n",
       "        vertical-align: top;\n",
       "    }\n",
       "\n",
       "    .dataframe thead th {\n",
       "        text-align: right;\n",
       "    }\n",
       "</style>\n",
       "<table border=\"1\" class=\"dataframe\">\n",
       "  <thead>\n",
       "    <tr style=\"text-align: right;\">\n",
       "      <th></th>\n",
       "      <th>Survived</th>\n",
       "      <th>Pclass</th>\n",
       "      <th>Name</th>\n",
       "      <th>Sex</th>\n",
       "      <th>Age</th>\n",
       "      <th>Siblings/Spouses Aboard</th>\n",
       "      <th>Parents/Children Aboard</th>\n",
       "      <th>Fare</th>\n",
       "    </tr>\n",
       "  </thead>\n",
       "  <tbody>\n",
       "    <tr>\n",
       "      <th>0</th>\n",
       "      <td>0</td>\n",
       "      <td>3</td>\n",
       "      <td>Mr. Owen Harris Braund</td>\n",
       "      <td>male</td>\n",
       "      <td>22.0</td>\n",
       "      <td>1</td>\n",
       "      <td>0</td>\n",
       "      <td>7.2500</td>\n",
       "    </tr>\n",
       "    <tr>\n",
       "      <th>1</th>\n",
       "      <td>1</td>\n",
       "      <td>1</td>\n",
       "      <td>Mrs. John Bradley (Florence Briggs Thayer) Cum...</td>\n",
       "      <td>female</td>\n",
       "      <td>38.0</td>\n",
       "      <td>1</td>\n",
       "      <td>0</td>\n",
       "      <td>71.2833</td>\n",
       "    </tr>\n",
       "    <tr>\n",
       "      <th>2</th>\n",
       "      <td>1</td>\n",
       "      <td>3</td>\n",
       "      <td>Miss. Laina Heikkinen</td>\n",
       "      <td>female</td>\n",
       "      <td>26.0</td>\n",
       "      <td>0</td>\n",
       "      <td>0</td>\n",
       "      <td>7.9250</td>\n",
       "    </tr>\n",
       "    <tr>\n",
       "      <th>3</th>\n",
       "      <td>1</td>\n",
       "      <td>1</td>\n",
       "      <td>Mrs. Jacques Heath (Lily May Peel) Futrelle</td>\n",
       "      <td>female</td>\n",
       "      <td>35.0</td>\n",
       "      <td>1</td>\n",
       "      <td>0</td>\n",
       "      <td>53.1000</td>\n",
       "    </tr>\n",
       "    <tr>\n",
       "      <th>4</th>\n",
       "      <td>0</td>\n",
       "      <td>3</td>\n",
       "      <td>Mr. William Henry Allen</td>\n",
       "      <td>male</td>\n",
       "      <td>35.0</td>\n",
       "      <td>0</td>\n",
       "      <td>0</td>\n",
       "      <td>8.0500</td>\n",
       "    </tr>\n",
       "  </tbody>\n",
       "</table>\n",
       "</div>"
      ],
      "text/plain": [
       "   Survived  Pclass                                               Name  \\\n",
       "0         0       3                             Mr. Owen Harris Braund   \n",
       "1         1       1  Mrs. John Bradley (Florence Briggs Thayer) Cum...   \n",
       "2         1       3                              Miss. Laina Heikkinen   \n",
       "3         1       1        Mrs. Jacques Heath (Lily May Peel) Futrelle   \n",
       "4         0       3                            Mr. William Henry Allen   \n",
       "\n",
       "      Sex   Age  Siblings/Spouses Aboard  Parents/Children Aboard     Fare  \n",
       "0    male  22.0                        1                        0   7.2500  \n",
       "1  female  38.0                        1                        0  71.2833  \n",
       "2  female  26.0                        0                        0   7.9250  \n",
       "3  female  35.0                        1                        0  53.1000  \n",
       "4    male  35.0                        0                        0   8.0500  "
      ]
     },
     "execution_count": 5,
     "metadata": {},
     "output_type": "execute_result"
    }
   ],
   "source": [
    "data = pd.read_csv('https://web.stanford.edu/class/archive/cs/cs109/cs109.1166/stuff/titanic.csv')\n",
    "\n",
    "data.head()"
   ]
  },
  {
   "cell_type": "code",
   "execution_count": 6,
   "metadata": {
    "colab": {},
    "colab_type": "code",
    "execution": {
     "iopub.execute_input": "2020-06-02T08:13:25.447Z",
     "iopub.status.busy": "2020-06-02T08:13:25.443Z",
     "iopub.status.idle": "2020-06-02T08:13:25.457Z",
     "shell.execute_reply": "2020-06-02T08:13:25.460Z"
    },
    "id": "6naKUP91uhqM",
    "outputId": "9c65a315-81f9-4002-8c79-f0f83cb4c1bb"
   },
   "outputs": [
    {
     "name": "stdout",
     "output_type": "stream",
     "text": [
      "65\n"
     ]
    },
    {
     "name": "stderr",
     "output_type": "stream",
     "text": [
      "c:\\users\\korowood\\appdata\\local\\programs\\python\\python37-32\\lib\\site-packages\\ipykernel_launcher.py:3: UserWarning: Boolean Series key will be reindexed to match DataFrame index.\n",
      "  This is separate from the ipykernel package so we can avoid doing imports until\n"
     ]
    }
   ],
   "source": [
    "\n",
    "# отображаем количество выживших детей\n",
    "\n",
    "print(len(data[data['Age'] < 18][data[\"Survived\"] == 1]))\n"
   ]
  },
  {
   "cell_type": "code",
   "execution_count": 7,
   "metadata": {
    "colab": {},
    "colab_type": "code",
    "execution": {
     "iopub.execute_input": "2020-06-02T08:14:28.517Z",
     "iopub.status.busy": "2020-06-02T08:14:28.513Z",
     "iopub.status.idle": "2020-06-02T08:14:28.525Z",
     "shell.execute_reply": "2020-06-02T08:14:28.528Z"
    },
    "id": "EUsAbUlvHdeV",
    "jupyter": {
     "outputs_hidden": false,
     "source_hidden": false
    },
    "nteract": {
     "transient": {
      "deleting": false
     }
    },
    "outputId": "579c9d98-e7be-4c49-badf-4c537d6a6e5c"
   },
   "outputs": [
    {
     "name": "stdout",
     "output_type": "stream",
     "text": [
      "9           Mrs. Nicholas (Adele Achem) Nasser\n",
      "10              Miss. Marguerite Rut Sandstrom\n",
      "22                          Miss. Anna McGowan\n",
      "39                  Miss. Jamila Nicola-Yarred\n",
      "42     Miss. Simonne Marie Anne Andree Laroche\n",
      "                        ...                   \n",
      "826     Mrs. Antoni (Selini Alexander) Yasbeck\n",
      "827             Master. George Sibley Richards\n",
      "849                   Miss. Mary Conover Lines\n",
      "865             Master. Harold Theodor Johnson\n",
      "871                   Miss. Adele Kiamie Najib\n",
      "Name: Name, Length: 65, dtype: object\n"
     ]
    }
   ],
   "source": [
    "# отображаем их имена\n",
    "\n",
    "print(data[data['Age'] < 18][\"Name\"][data[\"Survived\"] == 1])"
   ]
  },
  {
   "cell_type": "code",
   "execution_count": null,
   "metadata": {
    "colab": {},
    "colab_type": "code",
    "id": "tsvq50YEHdeX",
    "jupyter": {
     "outputs_hidden": false,
     "source_hidden": false
    },
    "nteract": {
     "transient": {
      "deleting": false
     }
    }
   },
   "outputs": [],
   "source": []
  }
 ],
 "metadata": {
  "colab": {
   "collapsed_sections": [],
   "name": "задания_модуль2.ipynb",
   "provenance": []
  },
  "kernelspec": {
   "display_name": "Python 3",
   "language": "python",
   "name": "python3"
  },
  "language_info": {
   "codemirror_mode": {
    "name": "ipython",
    "version": 3
   },
   "file_extension": ".py",
   "mimetype": "text/x-python",
   "name": "python",
   "nbconvert_exporter": "python",
   "pygments_lexer": "ipython3",
   "version": "3.7.4"
  },
  "nteract": {
   "version": "0.23.3"
  }
 },
 "nbformat": 4,
 "nbformat_minor": 1
}
